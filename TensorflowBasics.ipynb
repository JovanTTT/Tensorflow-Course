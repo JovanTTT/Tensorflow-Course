{
 "cells": [
  {
   "cell_type": "code",
   "execution_count": 1,
   "id": "843b7065-66fa-4ad0-9f54-37828cdb9f1f",
   "metadata": {},
   "outputs": [],
   "source": [
    "import tensorflow as tf"
   ]
  },
  {
   "cell_type": "code",
   "execution_count": 4,
   "id": "c98f59c1-fa5d-409d-ada5-b1e41a8b7266",
   "metadata": {},
   "outputs": [],
   "source": [
    "scalar = tf.constant(7)"
   ]
  },
  {
   "cell_type": "code",
   "execution_count": 5,
   "id": "7f42590b-68e9-418c-bd41-f2e1e28e5752",
   "metadata": {},
   "outputs": [
    {
     "data": {
      "text/plain": [
       "<tf.Tensor: shape=(), dtype=int32, numpy=7>"
      ]
     },
     "execution_count": 5,
     "metadata": {},
     "output_type": "execute_result"
    }
   ],
   "source": [
    "scalar"
   ]
  },
  {
   "cell_type": "code",
   "execution_count": 6,
   "id": "e5227832-14eb-4ca9-be7f-451a1c67217d",
   "metadata": {},
   "outputs": [
    {
     "data": {
      "text/plain": [
       "0"
      ]
     },
     "execution_count": 6,
     "metadata": {},
     "output_type": "execute_result"
    }
   ],
   "source": [
    "scalar.ndim"
   ]
  },
  {
   "cell_type": "code",
   "execution_count": 7,
   "id": "10c0601a-d8f6-405f-a709-dab26bc5e78a",
   "metadata": {},
   "outputs": [],
   "source": [
    "vector = tf.constant([10, 10])"
   ]
  },
  {
   "cell_type": "code",
   "execution_count": 8,
   "id": "34b4695a-c49a-40c5-b36f-ecec15614ca7",
   "metadata": {},
   "outputs": [
    {
     "data": {
      "text/plain": [
       "<tf.Tensor: shape=(2,), dtype=int32, numpy=array([10, 10])>"
      ]
     },
     "execution_count": 8,
     "metadata": {},
     "output_type": "execute_result"
    }
   ],
   "source": [
    "vector"
   ]
  },
  {
   "cell_type": "code",
   "execution_count": 9,
   "id": "abf6b001-69c3-4865-81c0-6d04e154a1e4",
   "metadata": {},
   "outputs": [
    {
     "data": {
      "text/plain": [
       "1"
      ]
     },
     "execution_count": 9,
     "metadata": {},
     "output_type": "execute_result"
    }
   ],
   "source": [
    "vector.ndim"
   ]
  },
  {
   "cell_type": "code",
   "execution_count": 12,
   "id": "4701f6e8-d54b-4ec5-ba55-3ee9346af063",
   "metadata": {},
   "outputs": [],
   "source": [
    "matrix = tf.constant([[10, 7],\n",
    "                      [7, 10]])"
   ]
  },
  {
   "cell_type": "code",
   "execution_count": 13,
   "id": "7827807f-f8b1-4826-8bdc-9dec5d80924d",
   "metadata": {},
   "outputs": [
    {
     "data": {
      "text/plain": [
       "<tf.Tensor: shape=(2, 2), dtype=int32, numpy=\n",
       "array([[10,  7],\n",
       "       [ 7, 10]])>"
      ]
     },
     "execution_count": 13,
     "metadata": {},
     "output_type": "execute_result"
    }
   ],
   "source": [
    "matrix"
   ]
  },
  {
   "cell_type": "code",
   "execution_count": 14,
   "id": "89eefb8e-f69d-4ba8-b162-82be188503db",
   "metadata": {},
   "outputs": [
    {
     "data": {
      "text/plain": [
       "2"
      ]
     },
     "execution_count": 14,
     "metadata": {},
     "output_type": "execute_result"
    }
   ],
   "source": [
    "matrix.ndim"
   ]
  },
  {
   "cell_type": "code",
   "execution_count": 15,
   "id": "61eee65b-736c-4a87-949e-37a8075de64c",
   "metadata": {},
   "outputs": [],
   "source": [
    "another_matrix = tf.constant([[10., 7.],\n",
    "                              [3., 2.],\n",
    "                              [8., 9.]], dtype = tf.float16)"
   ]
  },
  {
   "cell_type": "code",
   "execution_count": null,
   "id": "3df7f9a6-d23c-4bc3-b53d-17a227a1f899",
   "metadata": {},
   "outputs": [],
   "source": []
  }
 ],
 "metadata": {
  "kernelspec": {
   "display_name": "Python 3 (ipykernel)",
   "language": "python",
   "name": "python3"
  },
  "language_info": {
   "codemirror_mode": {
    "name": "ipython",
    "version": 3
   },
   "file_extension": ".py",
   "mimetype": "text/x-python",
   "name": "python",
   "nbconvert_exporter": "python",
   "pygments_lexer": "ipython3",
   "version": "3.11.7"
  }
 },
 "nbformat": 4,
 "nbformat_minor": 5
}
